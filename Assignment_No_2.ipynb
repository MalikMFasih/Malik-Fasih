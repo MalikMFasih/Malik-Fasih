{
  "nbformat": 4,
  "nbformat_minor": 0,
  "metadata": {
    "colab": {
      "provenance": [],
      "authorship_tag": "ABX9TyPr63sXUUhDy8q3Is9RorX0",
      "include_colab_link": true
    },
    "kernelspec": {
      "name": "python3",
      "display_name": "Python 3"
    },
    "language_info": {
      "name": "python"
    }
  },
  "cells": [
    {
      "cell_type": "markdown",
      "metadata": {
        "id": "view-in-github",
        "colab_type": "text"
      },
      "source": [
        "<a href=\"https://colab.research.google.com/github/MalikMFasih/Malik-Fasih/blob/main/Assignment_No_2.ipynb\" target=\"_parent\"><img src=\"https://colab.research.google.com/assets/colab-badge.svg\" alt=\"Open In Colab\"/></a>"
      ]
    },
    {
      "cell_type": "code",
      "execution_count": null,
      "metadata": {
        "colab": {
          "base_uri": "https://localhost:8080/"
        },
        "id": "OtEYzErCbfC-",
        "outputId": "1389e1fd-7468-4bdc-e25f-87ff08310484"
      },
      "outputs": [
        {
          "output_type": "stream",
          "name": "stdout",
          "text": [
            "Vocabulary:  {'ll': 8, 'be': 0, 'yours': 18, 'if': 7, 'you': 17, 'mine': 11, 'till': 14, 'golden': 5, 'moon': 12, 'meets': 9, 'midnight': 10, 'drear': 3, 'for': 4, 'words': 16, 'can': 1, 'tell': 13, 'what': 15, 'hearts': 6, 'divine': 2}\n",
            "Encoded Document is:\n",
            "[[2 0 0 0 0 0 0 1 2 0 0 1 0 0 0 0 0 1 1]\n",
            " [0 0 0 1 0 1 0 0 0 1 1 0 1 0 1 0 0 0 0]\n",
            " [0 1 1 0 1 0 1 0 0 0 0 0 0 1 0 1 1 0 0]]\n"
          ]
        }
      ],
      "source": [
        "from sklearn.feature_extraction.text import CountVectorizer\n",
        "\n",
        "document = [\"I'll be yours if you'll be mine\",\n",
        "\t\t\t      \"Till golden moon meets midnight drear\",\n",
        "\t\t\t      \"For words can tell what hearts divine\"]\n",
        "\n",
        "# Create a Vectorizer Object\n",
        "vectorizer = CountVectorizer()\n",
        "\n",
        "vectorizer.fit(document)\n",
        "\n",
        "# Printing the identified Unique words along with their indices\n",
        "print(\"Vocabulary: \", vectorizer.vocabulary_)\n",
        "\n",
        "# Encode the Document\n",
        "vector = vectorizer.transform(document)\n",
        "\n",
        "# Summarizing the Encoded Texts\n",
        "print(\"Encoded Document is:\")\n",
        "print(vector.toarray())\n"
      ]
    }
  ]
}